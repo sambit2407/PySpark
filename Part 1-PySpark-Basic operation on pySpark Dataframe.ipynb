{
 "cells": [
  {
   "cell_type": "markdown",
   "id": "611feb23",
   "metadata": {},
   "source": [
    "## Topics\n",
    "\n",
    "\n",
    "- PySpark Dataframe\n",
    "- Reading The Dataset\n",
    "- Checking the Datatypes of the Column(Schema)\n",
    "- Selecting Columns And Indexing\n",
    "- Check Describe option similar to Pandas\n",
    "- Adding Columns\n",
    "- Dropping columns\n",
    "- Renaming Columns"
   ]
  },
  {
   "cell_type": "code",
   "execution_count": 1,
   "id": "558bfe8d",
   "metadata": {},
   "outputs": [],
   "source": [
    "from pyspark.sql import SparkSession"
   ]
  },
  {
   "cell_type": "code",
   "execution_count": 2,
   "id": "88ff7108",
   "metadata": {},
   "outputs": [],
   "source": [
    "spark=SparkSession.builder.appName('dataframe').getOrCreate()"
   ]
  },
  {
   "cell_type": "code",
   "execution_count": 3,
   "id": "76311f95",
   "metadata": {},
   "outputs": [
    {
     "data": {
      "text/html": [
       "\n",
       "            <div>\n",
       "                <p><b>SparkSession - in-memory</b></p>\n",
       "                \n",
       "        <div>\n",
       "            <p><b>SparkContext</b></p>\n",
       "\n",
       "            <p><a href=\"http://DESKTOP-I0LM8VF.mshome.net:4040\">Spark UI</a></p>\n",
       "\n",
       "            <dl>\n",
       "              <dt>Version</dt>\n",
       "                <dd><code>v3.2.1</code></dd>\n",
       "              <dt>Master</dt>\n",
       "                <dd><code>local[*]</code></dd>\n",
       "              <dt>AppName</dt>\n",
       "                <dd><code>dataframe</code></dd>\n",
       "            </dl>\n",
       "        </div>\n",
       "        \n",
       "            </div>\n",
       "        "
      ],
      "text/plain": [
       "<pyspark.sql.session.SparkSession at 0x20333b3f610>"
      ]
     },
     "execution_count": 3,
     "metadata": {},
     "output_type": "execute_result"
    }
   ],
   "source": [
    "spark"
   ]
  },
  {
   "cell_type": "code",
   "execution_count": 32,
   "id": "c2978673",
   "metadata": {},
   "outputs": [],
   "source": [
    "#read the dataset\n",
    "dataframe_spark=spark.read.option('header','true').csv('Updated_company_file',inferSchema=True)"
   ]
  },
  {
   "cell_type": "code",
   "execution_count": 33,
   "id": "cde7ab8e",
   "metadata": {},
   "outputs": [
    {
     "name": "stdout",
     "output_type": "stream",
     "text": [
      "root\n",
      " |-- _c0: integer (nullable = true)\n",
      " |-- Company Name: string (nullable = true)\n",
      " |-- Job Title: string (nullable = true)\n",
      " |-- Salaries Reported: double (nullable = true)\n",
      " |-- Location: string (nullable = true)\n",
      " |-- Salary: string (nullable = true)\n",
      "\n"
     ]
    }
   ],
   "source": [
    "dataframe_spark.printSchema()"
   ]
  },
  {
   "cell_type": "code",
   "execution_count": 34,
   "id": "9d457523",
   "metadata": {},
   "outputs": [
    {
     "data": {
      "text/plain": [
       "['_c0', 'Company Name', 'Job Title', 'Salaries Reported', 'Location', 'Salary']"
      ]
     },
     "execution_count": 34,
     "metadata": {},
     "output_type": "execute_result"
    }
   ],
   "source": [
    "#getting column names\n",
    "dataframe_spark.columns"
   ]
  },
  {
   "cell_type": "code",
   "execution_count": 35,
   "id": "78dea83d",
   "metadata": {},
   "outputs": [
    {
     "data": {
      "text/plain": [
       "[Row(_c0=0, Company Name='Mu Sigma', Job Title='Data Scientist', Salaries Reported=105.0, Location='Bangalore', Salary='648573'),\n",
       " Row(_c0=1, Company Name='IBM', Job Title='Data Scientist', Salaries Reported=95.0, Location='Bangalore', Salary='1191950'),\n",
       " Row(_c0=2, Company Name='Tata Consultancy Services', Job Title='Data Scientist', Salaries Reported=66.0, Location='Bangalore', Salary='836874')]"
      ]
     },
     "execution_count": 35,
     "metadata": {},
     "output_type": "execute_result"
    }
   ],
   "source": [
    "dataframe_spark.head(3)"
   ]
  },
  {
   "cell_type": "code",
   "execution_count": 36,
   "id": "33515340",
   "metadata": {},
   "outputs": [
    {
     "name": "stdout",
     "output_type": "stream",
     "text": [
      "+-----------------+-------+\n",
      "|Salaries Reported| Salary|\n",
      "+-----------------+-------+\n",
      "|            105.0| 648573|\n",
      "|             95.0|1191950|\n",
      "|             66.0| 836874|\n",
      "|             40.0| 669578|\n",
      "|             32.0| 944110|\n",
      "|             30.0| 908764|\n",
      "|             28.0| 926124|\n",
      "|             26.0| 736708|\n",
      "|             25.0|1646721|\n",
      "|             22.0|1392960|\n",
      "|             20.0|1404773|\n",
      "|             19.0|1507343|\n",
      "|             19.0|1558095|\n",
      "|             18.0|2557843|\n",
      "|             16.0|1510081|\n",
      "|             15.0| 732821|\n",
      "|             15.0|1221750|\n",
      "|             15.0|1739484|\n",
      "|             14.0|1124939|\n",
      "|             14.0|1630396|\n",
      "+-----------------+-------+\n",
      "only showing top 20 rows\n",
      "\n"
     ]
    }
   ],
   "source": [
    "dataframe_spark.select(['Salaries Reported','Salary']).show()"
   ]
  },
  {
   "cell_type": "code",
   "execution_count": 37,
   "id": "78173dbc",
   "metadata": {},
   "outputs": [
    {
     "data": {
      "text/plain": [
       "[('_c0', 'int'),\n",
       " ('Company Name', 'string'),\n",
       " ('Job Title', 'string'),\n",
       " ('Salaries Reported', 'double'),\n",
       " ('Location', 'string'),\n",
       " ('Salary', 'string')]"
      ]
     },
     "execution_count": 37,
     "metadata": {},
     "output_type": "execute_result"
    }
   ],
   "source": [
    "dataframe_spark.dtypes"
   ]
  },
  {
   "cell_type": "code",
   "execution_count": 38,
   "id": "5bb7e4e0",
   "metadata": {},
   "outputs": [
    {
     "name": "stdout",
     "output_type": "stream",
     "text": [
      "+-------+------------------+---------------+--------------------+------------------+---------+-----------------+\n",
      "|summary|               _c0|   Company Name|           Job Title| Salaries Reported| Location|           Salary|\n",
      "+-------+------------------+---------------+--------------------+------------------+---------+-----------------+\n",
      "|  count|              4344|           4341|                4344|              4342|     4344|             4344|\n",
      "|   mean|            2171.5|           null|                null|2.7759097190234914|     null|768129.6433341008|\n",
      "| stddev|1254.1491139414004|           null|                null|5.1465274725498755|     null|769308.5390143887|\n",
      "|    min|                 0|& Other Stories|Associate Machine...|               1.0|Bangalore|              100|\n",
      "|    max|              4343|Águas Guariroba|Software Engineer...|             105.0|     Pune|        FN 156179|\n",
      "+-------+------------------+---------------+--------------------+------------------+---------+-----------------+\n",
      "\n"
     ]
    }
   ],
   "source": [
    "dataframe_spark.describe().show()"
   ]
  },
  {
   "cell_type": "code",
   "execution_count": 39,
   "id": "bc35236b",
   "metadata": {},
   "outputs": [
    {
     "name": "stdout",
     "output_type": "stream",
     "text": [
      "+---+--------------------+--------------+-----------------+---------+-------+------------+\n",
      "|_c0|        Company Name|     Job Title|Salaries Reported| Location| Salary|new_location|\n",
      "+---+--------------------+--------------+-----------------+---------+-------+------------+\n",
      "|  0|            Mu Sigma|Data Scientist|            105.0|Bangalore| 648573|        null|\n",
      "|  1|                 IBM|Data Scientist|             95.0|Bangalore|1191950|        null|\n",
      "|  2|Tata Consultancy ...|Data Scientist|             66.0|Bangalore| 836874|        null|\n",
      "|  3|    Impact Analytics|Data Scientist|             40.0|Bangalore| 669578|        null|\n",
      "|  4|           Accenture|Data Scientist|             32.0|Bangalore| 944110|        null|\n",
      "|  5|             Infosys|Data Scientist|             30.0|Bangalore| 908764|        null|\n",
      "|  6|           Capgemini|Data Scientist|             28.0|Bangalore| 926124|        null|\n",
      "|  7|Cognizant Technol...|Data Scientist|             26.0|Bangalore| 736708|        null|\n",
      "|  8|Anheuser-Busch InBev|Data Scientist|             25.0|Bangalore|1646721|        null|\n",
      "|  9|             Fractal|Data Scientist|             22.0|Bangalore|1392960|        null|\n",
      "| 10|              Embibe|Data Scientist|             20.0|Bangalore|1404773|        null|\n",
      "| 11|              Amazon|Data Scientist|             19.0|Bangalore|1507343|        null|\n",
      "| 12|              Google|Data Scientist|             19.0|Bangalore|1558095|        null|\n",
      "| 13|            Flipkart|Data Scientist|             18.0|Bangalore|2557843|        null|\n",
      "| 14|             HP Inc.|Data Scientist|             16.0|Bangalore|1510081|        null|\n",
      "| 15|               Wipro|Data Scientist|             15.0|Bangalore| 732821|        null|\n",
      "| 16|  Ericsson-Worldwide|Data Scientist|             15.0|Bangalore|1221750|        null|\n",
      "| 17|                 MiQ|Data Scientist|             15.0|Bangalore|1739484|        null|\n",
      "| 18|            Deloitte|Data Scientist|             14.0|Bangalore|1124939|        null|\n",
      "| 19|           Microsoft|Data Scientist|             14.0|Bangalore|1630396|        null|\n",
      "+---+--------------------+--------------+-----------------+---------+-------+------------+\n",
      "only showing top 20 rows\n",
      "\n"
     ]
    }
   ],
   "source": [
    "#Adding column in dataframe\n",
    "dataframe_spark.withColumn('new_location',dataframe_spark['Location']+'new').show()"
   ]
  },
  {
   "cell_type": "code",
   "execution_count": 40,
   "id": "b8d71639",
   "metadata": {},
   "outputs": [],
   "source": [
    "dataframe_spark=dataframe_spark.drop('_c0')"
   ]
  },
  {
   "cell_type": "code",
   "execution_count": 41,
   "id": "7aef67fa",
   "metadata": {},
   "outputs": [
    {
     "name": "stdout",
     "output_type": "stream",
     "text": [
      "+--------------------+--------------+-----------------+---------+-------+\n",
      "|        Company Name|     Job Title|Salaries Reported| Location| Salary|\n",
      "+--------------------+--------------+-----------------+---------+-------+\n",
      "|            Mu Sigma|Data Scientist|            105.0|Bangalore| 648573|\n",
      "|                 IBM|Data Scientist|             95.0|Bangalore|1191950|\n",
      "|Tata Consultancy ...|Data Scientist|             66.0|Bangalore| 836874|\n",
      "|    Impact Analytics|Data Scientist|             40.0|Bangalore| 669578|\n",
      "|           Accenture|Data Scientist|             32.0|Bangalore| 944110|\n",
      "|             Infosys|Data Scientist|             30.0|Bangalore| 908764|\n",
      "|           Capgemini|Data Scientist|             28.0|Bangalore| 926124|\n",
      "|Cognizant Technol...|Data Scientist|             26.0|Bangalore| 736708|\n",
      "|Anheuser-Busch InBev|Data Scientist|             25.0|Bangalore|1646721|\n",
      "|             Fractal|Data Scientist|             22.0|Bangalore|1392960|\n",
      "|              Embibe|Data Scientist|             20.0|Bangalore|1404773|\n",
      "|              Amazon|Data Scientist|             19.0|Bangalore|1507343|\n",
      "|              Google|Data Scientist|             19.0|Bangalore|1558095|\n",
      "|            Flipkart|Data Scientist|             18.0|Bangalore|2557843|\n",
      "|             HP Inc.|Data Scientist|             16.0|Bangalore|1510081|\n",
      "|               Wipro|Data Scientist|             15.0|Bangalore| 732821|\n",
      "|  Ericsson-Worldwide|Data Scientist|             15.0|Bangalore|1221750|\n",
      "|                 MiQ|Data Scientist|             15.0|Bangalore|1739484|\n",
      "|            Deloitte|Data Scientist|             14.0|Bangalore|1124939|\n",
      "|           Microsoft|Data Scientist|             14.0|Bangalore|1630396|\n",
      "+--------------------+--------------+-----------------+---------+-------+\n",
      "only showing top 20 rows\n",
      "\n"
     ]
    }
   ],
   "source": [
    "dataframe_spark.show()"
   ]
  },
  {
   "cell_type": "code",
   "execution_count": 42,
   "id": "db6dbb04",
   "metadata": {},
   "outputs": [],
   "source": [
    "#rename the column\n",
    "dataframe_spark=dataframe_spark.withColumnRenamed('Salaries Reported','No_of_salary')"
   ]
  },
  {
   "cell_type": "code",
   "execution_count": 43,
   "id": "4bf38f68",
   "metadata": {},
   "outputs": [
    {
     "name": "stdout",
     "output_type": "stream",
     "text": [
      "+--------------------+--------------+------------+---------+-------+\n",
      "|        Company Name|     Job Title|No_of_salary| Location| Salary|\n",
      "+--------------------+--------------+------------+---------+-------+\n",
      "|            Mu Sigma|Data Scientist|       105.0|Bangalore| 648573|\n",
      "|                 IBM|Data Scientist|        95.0|Bangalore|1191950|\n",
      "|Tata Consultancy ...|Data Scientist|        66.0|Bangalore| 836874|\n",
      "|    Impact Analytics|Data Scientist|        40.0|Bangalore| 669578|\n",
      "|           Accenture|Data Scientist|        32.0|Bangalore| 944110|\n",
      "|             Infosys|Data Scientist|        30.0|Bangalore| 908764|\n",
      "|           Capgemini|Data Scientist|        28.0|Bangalore| 926124|\n",
      "|Cognizant Technol...|Data Scientist|        26.0|Bangalore| 736708|\n",
      "|Anheuser-Busch InBev|Data Scientist|        25.0|Bangalore|1646721|\n",
      "|             Fractal|Data Scientist|        22.0|Bangalore|1392960|\n",
      "|              Embibe|Data Scientist|        20.0|Bangalore|1404773|\n",
      "|              Amazon|Data Scientist|        19.0|Bangalore|1507343|\n",
      "|              Google|Data Scientist|        19.0|Bangalore|1558095|\n",
      "|            Flipkart|Data Scientist|        18.0|Bangalore|2557843|\n",
      "|             HP Inc.|Data Scientist|        16.0|Bangalore|1510081|\n",
      "|               Wipro|Data Scientist|        15.0|Bangalore| 732821|\n",
      "|  Ericsson-Worldwide|Data Scientist|        15.0|Bangalore|1221750|\n",
      "|                 MiQ|Data Scientist|        15.0|Bangalore|1739484|\n",
      "|            Deloitte|Data Scientist|        14.0|Bangalore|1124939|\n",
      "|           Microsoft|Data Scientist|        14.0|Bangalore|1630396|\n",
      "+--------------------+--------------+------------+---------+-------+\n",
      "only showing top 20 rows\n",
      "\n"
     ]
    }
   ],
   "source": [
    "dataframe_spark.show()"
   ]
  },
  {
   "cell_type": "code",
   "execution_count": null,
   "id": "b0263ff0",
   "metadata": {},
   "outputs": [],
   "source": []
  }
 ],
 "metadata": {
  "kernelspec": {
   "display_name": "Python 3 (ipykernel)",
   "language": "python",
   "name": "python3"
  },
  "language_info": {
   "codemirror_mode": {
    "name": "ipython",
    "version": 3
   },
   "file_extension": ".py",
   "mimetype": "text/x-python",
   "name": "python",
   "nbconvert_exporter": "python",
   "pygments_lexer": "ipython3",
   "version": "3.10.2"
  }
 },
 "nbformat": 4,
 "nbformat_minor": 5
}
