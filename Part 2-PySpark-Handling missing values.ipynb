{
 "cells": [
  {
   "cell_type": "markdown",
   "id": "c96d1941",
   "metadata": {},
   "source": [
    "## Topics\n",
    "\n",
    "- Dropping columns\n",
    "- Droping rows\n",
    "- Parameters in Droping functionalities\n",
    "- Treating with missing values"
   ]
  },
  {
   "cell_type": "code",
   "execution_count": 3,
   "id": "76c296bd",
   "metadata": {},
   "outputs": [],
   "source": [
    "from pyspark.sql import SparkSession"
   ]
  },
  {
   "cell_type": "code",
   "execution_count": 4,
   "id": "ed995090",
   "metadata": {},
   "outputs": [],
   "source": [
    "spark=SparkSession.builder.appName('drop').getOrCreate()"
   ]
  },
  {
   "cell_type": "code",
   "execution_count": 32,
   "id": "7179c1ba",
   "metadata": {},
   "outputs": [],
   "source": [
    "spark_data=spark.read.csv('test_payspark.csv',header=True,inferSchema=True)"
   ]
  },
  {
   "cell_type": "code",
   "execution_count": 33,
   "id": "3348cb17",
   "metadata": {},
   "outputs": [
    {
     "name": "stdout",
     "output_type": "stream",
     "text": [
      "+----+-----+-----+\n",
      "|Name|class|money|\n",
      "+----+-----+-----+\n",
      "|syam|    2| null|\n",
      "| ram|    3|   45|\n",
      "| dam|    1|   34|\n",
      "| ham|    5|   66|\n",
      "| pam| null|  545|\n",
      "|null|    6| null|\n",
      "|null|    7|    4|\n",
      "+----+-----+-----+\n",
      "\n"
     ]
    }
   ],
   "source": [
    "spark_data.show()"
   ]
  },
  {
   "cell_type": "code",
   "execution_count": 11,
   "id": "bf05d6bd",
   "metadata": {},
   "outputs": [
    {
     "name": "stdout",
     "output_type": "stream",
     "text": [
      "+----+-----+-----+\n",
      "|Name|class|money|\n",
      "+----+-----+-----+\n",
      "| ram|    3|   45|\n",
      "| dam|    1|   34|\n",
      "| ham|    5|   66|\n",
      "+----+-----+-----+\n",
      "\n"
     ]
    }
   ],
   "source": [
    "# deleting rows which contains nan\n",
    "spark_data.na.drop().show()"
   ]
  },
  {
   "cell_type": "code",
   "execution_count": 14,
   "id": "1e2b0822",
   "metadata": {},
   "outputs": [
    {
     "name": "stdout",
     "output_type": "stream",
     "text": [
      "+----+-----+-----+\n",
      "|Name|class|money|\n",
      "+----+-----+-----+\n",
      "|syam|    2| null|\n",
      "| ram|    3|   45|\n",
      "| dam|    1|   34|\n",
      "| ham|    5|   66|\n",
      "| pam| null|  545|\n",
      "|null|    6| null|\n",
      "|null|    7|    4|\n",
      "+----+-----+-----+\n",
      "\n"
     ]
    }
   ],
   "source": [
    "#how argument,how== any orhow== all\n",
    "# fir how== all ,if all the rows are null then only it will delete\n",
    "spark_data.na.drop(how='all').show()"
   ]
  },
  {
   "cell_type": "code",
   "execution_count": 23,
   "id": "60c06afb",
   "metadata": {},
   "outputs": [
    {
     "name": "stdout",
     "output_type": "stream",
     "text": [
      "+----+-----+-----+\n",
      "|Name|class|money|\n",
      "+----+-----+-----+\n",
      "| ram|    3|   45|\n",
      "| dam|    1|   34|\n",
      "| ham|    5|   66|\n",
      "+----+-----+-----+\n",
      "\n"
     ]
    }
   ],
   "source": [
    "#threshold-alteast 2 null value would be there to delete perticular row\n",
    "spark_data.na.drop(how='any').show()"
   ]
  },
  {
   "cell_type": "code",
   "execution_count": 28,
   "id": "e6ef0bd1",
   "metadata": {},
   "outputs": [
    {
     "name": "stdout",
     "output_type": "stream",
     "text": [
      "+----+-----+-----+\n",
      "|Name|class|money|\n",
      "+----+-----+-----+\n",
      "|syam|    2| null|\n",
      "| ram|    3|   45|\n",
      "| dam|    1|   34|\n",
      "| ham|    5|   66|\n",
      "| pam| null|  545|\n",
      "|null|    6| null|\n",
      "|null|    7|    4|\n",
      "+----+-----+-----+\n",
      "\n"
     ]
    }
   ],
   "source": [
    "spark_data.show()"
   ]
  },
  {
   "cell_type": "code",
   "execution_count": 36,
   "id": "9880cead",
   "metadata": {},
   "outputs": [
    {
     "name": "stdout",
     "output_type": "stream",
     "text": [
      "+----+-----+-----+\n",
      "|Name|class|money|\n",
      "+----+-----+-----+\n",
      "|syam|    2| null|\n",
      "| ram|    3|   45|\n",
      "| dam|    1|   34|\n",
      "| ham|    5|   66|\n",
      "| pam| null|  545|\n",
      "|null|    6| null|\n",
      "|null|    7|    4|\n",
      "+----+-----+-----+\n",
      "\n"
     ]
    }
   ],
   "source": [
    "##filling tyhe missing values\n",
    "spark_data.na.fill('missing val','money').show()"
   ]
  },
  {
   "cell_type": "code",
   "execution_count": 37,
   "id": "0ed8204f",
   "metadata": {},
   "outputs": [
    {
     "data": {
      "text/plain": [
       "['Name', 'class', 'money']"
      ]
     },
     "execution_count": 37,
     "metadata": {},
     "output_type": "execute_result"
    }
   ],
   "source": [
    "spark_data.columns"
   ]
  },
  {
   "cell_type": "code",
   "execution_count": 39,
   "id": "8a4ff1ef",
   "metadata": {},
   "outputs": [
    {
     "name": "stdout",
     "output_type": "stream",
     "text": [
      "+----+-----+-----+\n",
      "|Name|class|money|\n",
      "+----+-----+-----+\n",
      "|syam|    2| null|\n",
      "| ram|    3|   45|\n",
      "| dam|    1|   34|\n",
      "| ham|    5|   66|\n",
      "| pam| null|  545|\n",
      "|null|    6| null|\n",
      "|null|    7|    4|\n",
      "+----+-----+-----+\n",
      "\n"
     ]
    }
   ],
   "source": [
    "spark_data.show()"
   ]
  },
  {
   "cell_type": "code",
   "execution_count": 40,
   "id": "9b226b48",
   "metadata": {},
   "outputs": [],
   "source": [
    "from pyspark.ml.feature import Imputer\n",
    "imputer=Imputer(inputCols=['class','money'],outputCols=['{}_trreated'.format(c) for c in ['class','money']]).setStrategy('mean')"
   ]
  },
  {
   "cell_type": "code",
   "execution_count": 41,
   "id": "c25d5f2e",
   "metadata": {},
   "outputs": [
    {
     "name": "stdout",
     "output_type": "stream",
     "text": [
      "+----+-----+-----+--------------+--------------+\n",
      "|Name|class|money|class_trreated|money_trreated|\n",
      "+----+-----+-----+--------------+--------------+\n",
      "|syam|    2| null|             2|           138|\n",
      "| ram|    3|   45|             3|            45|\n",
      "| dam|    1|   34|             1|            34|\n",
      "| ham|    5|   66|             5|            66|\n",
      "| pam| null|  545|             4|           545|\n",
      "|null|    6| null|             6|           138|\n",
      "|null|    7|    4|             7|             4|\n",
      "+----+-----+-----+--------------+--------------+\n",
      "\n"
     ]
    }
   ],
   "source": [
    "#treating to df\n",
    "imputer.fit(spark_data).transform(spark_data).show()"
   ]
  },
  {
   "cell_type": "code",
   "execution_count": null,
   "id": "7be7069f",
   "metadata": {},
   "outputs": [],
   "source": []
  }
 ],
 "metadata": {
  "kernelspec": {
   "display_name": "Python 3 (ipykernel)",
   "language": "python",
   "name": "python3"
  },
  "language_info": {
   "codemirror_mode": {
    "name": "ipython",
    "version": 3
   },
   "file_extension": ".py",
   "mimetype": "text/x-python",
   "name": "python",
   "nbconvert_exporter": "python",
   "pygments_lexer": "ipython3",
   "version": "3.10.2"
  }
 },
 "nbformat": 4,
 "nbformat_minor": 5
}
